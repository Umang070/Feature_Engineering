{
 "cells": [
  {
   "cell_type": "markdown",
   "metadata": {},
   "source": [
    "# Feature Extraction and similar image search with OpenCV\n",
    "\n",
    "Image features\n",
    "For this task, first of all, we need to understand what is an Image Feature and how we can use it.\n",
    "\n",
    "Image feature is a simple image pattern, based on which we can describe what we see on the image. \n",
    "For example cat eye will be a feature on a image of a cat.           \n",
    "**The main role of features in computer vision(and not only) is to transform visual information into the vector space. This give us possibility to perform mathematical operations on them, for example finding similar vector(which lead us to similar image or object on the image)**               \n",
    "Ok, but how to get this features from the image?                      \n",
    "There are two ways of getting features from image, first is an image descriptors(white box algorithms), second is a neural nets(black box algorithms).            \n",
    "There are many algorithms for feature extraction, most popular of them are SIFT,SURF,FAST,BRIEF,ORB.  Most of this are based on Image_gradient.....KAZE descriptor is in the base openCV"
   ]
  },
  {
   "cell_type": "code",
   "execution_count": null,
   "metadata": {},
   "outputs": [],
   "source": []
  }
 ],
 "metadata": {
  "kernelspec": {
   "display_name": "Python 3",
   "language": "python",
   "name": "python3"
  },
  "language_info": {
   "codemirror_mode": {
    "name": "ipython",
    "version": 3
   },
   "file_extension": ".py",
   "mimetype": "text/x-python",
   "name": "python",
   "nbconvert_exporter": "python",
   "pygments_lexer": "ipython3",
   "version": "3.7.6"
  }
 },
 "nbformat": 4,
 "nbformat_minor": 4
}
