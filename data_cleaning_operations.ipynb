{
 "cells": [
  {
   "cell_type": "markdown",
   "metadata": {},
   "source": [
    "\n",
    "Data cleaning operation on data set which include treatment of missing value, smoothing of noisy data by binning method.\n"
   ]
  },
  {
   "cell_type": "code",
   "execution_count": 1,
   "metadata": {},
   "outputs": [],
   "source": [
    "import pandas as pd\n",
    "import matplotlib.pyplot as plt\n",
    "import numpy as np\n",
    "from matplotlib import style\n",
    "style.use('ggplot')\n",
    "plt.rcParams['figure.figsize'] = 10,7"
   ]
  },
  {
   "cell_type": "code",
   "execution_count": 2,
   "metadata": {},
   "outputs": [],
   "source": [
    "df = pd.read_csv(\"Combine_Data.csv\")"
   ]
  },
  {
   "cell_type": "code",
   "execution_count": 8,
   "metadata": {},
   "outputs": [
    {
     "data": {
      "text/plain": [
       "(42765, 19)"
      ]
     },
     "execution_count": 8,
     "metadata": {},
     "output_type": "execute_result"
    }
   ],
   "source": [
    "df.shape"
   ]
  },
  {
   "cell_type": "code",
   "execution_count": 3,
   "metadata": {},
   "outputs": [
    {
     "data": {
      "text/html": [
       "<div>\n",
       "<style scoped>\n",
       "    .dataframe tbody tr th:only-of-type {\n",
       "        vertical-align: middle;\n",
       "    }\n",
       "\n",
       "    .dataframe tbody tr th {\n",
       "        vertical-align: top;\n",
       "    }\n",
       "\n",
       "    .dataframe thead th {\n",
       "        text-align: right;\n",
       "    }\n",
       "</style>\n",
       "<table border=\"1\" class=\"dataframe\">\n",
       "  <thead>\n",
       "    <tr style=\"text-align: right;\">\n",
       "      <th></th>\n",
       "      <th>BillNo</th>\n",
       "      <th>BillQty</th>\n",
       "      <th>BillParty</th>\n",
       "      <th>BillDate</th>\n",
       "      <th>BillProdNo</th>\n",
       "      <th>BillProdCode</th>\n",
       "      <th>BillProdName</th>\n",
       "      <th>BillAddTax</th>\n",
       "      <th>BillRate</th>\n",
       "      <th>BillVat</th>\n",
       "      <th>BillAmt</th>\n",
       "      <th>BillFree</th>\n",
       "      <th>BillPartyType</th>\n",
       "      <th>ProdCategory</th>\n",
       "      <th>ProdPRate</th>\n",
       "      <th>ProdSRate</th>\n",
       "      <th>month</th>\n",
       "      <th>year</th>\n",
       "      <th>weekday</th>\n",
       "    </tr>\n",
       "  </thead>\n",
       "  <tbody>\n",
       "    <tr>\n",
       "      <th>0</th>\n",
       "      <td>E1617-75852</td>\n",
       "      <td>10.00</td>\n",
       "      <td>NaN</td>\n",
       "      <td>2019-01-16</td>\n",
       "      <td>2</td>\n",
       "      <td>BAT01</td>\n",
       "      <td>BATAKA</td>\n",
       "      <td>0</td>\n",
       "      <td>14.0</td>\n",
       "      <td>0.0</td>\n",
       "      <td>140.0</td>\n",
       "      <td>0.0</td>\n",
       "      <td>R</td>\n",
       "      <td>Vegetable</td>\n",
       "      <td>12.000</td>\n",
       "      <td>18.0</td>\n",
       "      <td>1</td>\n",
       "      <td>2019</td>\n",
       "      <td>Wednesday</td>\n",
       "    </tr>\n",
       "    <tr>\n",
       "      <th>1</th>\n",
       "      <td>E1617-75852</td>\n",
       "      <td>6.00</td>\n",
       "      <td>NaN</td>\n",
       "      <td>2019-01-16</td>\n",
       "      <td>1</td>\n",
       "      <td>DUN01</td>\n",
       "      <td>DUNGRI</td>\n",
       "      <td>0</td>\n",
       "      <td>12.0</td>\n",
       "      <td>0.0</td>\n",
       "      <td>72.0</td>\n",
       "      <td>0.0</td>\n",
       "      <td>R</td>\n",
       "      <td>Vegetable</td>\n",
       "      <td>10.000</td>\n",
       "      <td>16.0</td>\n",
       "      <td>1</td>\n",
       "      <td>2019</td>\n",
       "      <td>Wednesday</td>\n",
       "    </tr>\n",
       "    <tr>\n",
       "      <th>2</th>\n",
       "      <td>E1617-75853</td>\n",
       "      <td>3.00</td>\n",
       "      <td>HAREKRISHNA BAKERY</td>\n",
       "      <td>2019-01-16</td>\n",
       "      <td>1</td>\n",
       "      <td>RIN07</td>\n",
       "      <td>RINGAN BHARTHA</td>\n",
       "      <td>0</td>\n",
       "      <td>38.0</td>\n",
       "      <td>0.0</td>\n",
       "      <td>114.0</td>\n",
       "      <td>0.0</td>\n",
       "      <td>R</td>\n",
       "      <td>Vegetable</td>\n",
       "      <td>35.000</td>\n",
       "      <td>52.0</td>\n",
       "      <td>1</td>\n",
       "      <td>2019</td>\n",
       "      <td>Wednesday</td>\n",
       "    </tr>\n",
       "    <tr>\n",
       "      <th>3</th>\n",
       "      <td>E1617-75854</td>\n",
       "      <td>0.25</td>\n",
       "      <td>NaN</td>\n",
       "      <td>2019-01-16</td>\n",
       "      <td>1</td>\n",
       "      <td>GAJ01</td>\n",
       "      <td>GAJAR</td>\n",
       "      <td>0</td>\n",
       "      <td>24.0</td>\n",
       "      <td>0.0</td>\n",
       "      <td>6.0</td>\n",
       "      <td>0.0</td>\n",
       "      <td>R</td>\n",
       "      <td>Vegetable</td>\n",
       "      <td>13.000</td>\n",
       "      <td>24.0</td>\n",
       "      <td>1</td>\n",
       "      <td>2019</td>\n",
       "      <td>Wednesday</td>\n",
       "    </tr>\n",
       "    <tr>\n",
       "      <th>4</th>\n",
       "      <td>E1617-75855</td>\n",
       "      <td>3.00</td>\n",
       "      <td>NaN</td>\n",
       "      <td>2019-01-16</td>\n",
       "      <td>1</td>\n",
       "      <td>BAN01</td>\n",
       "      <td>BANANA</td>\n",
       "      <td>0</td>\n",
       "      <td>3.4</td>\n",
       "      <td>0.0</td>\n",
       "      <td>10.2</td>\n",
       "      <td>0.0</td>\n",
       "      <td>R</td>\n",
       "      <td>Fruit</td>\n",
       "      <td>23.334</td>\n",
       "      <td>40.0</td>\n",
       "      <td>1</td>\n",
       "      <td>2019</td>\n",
       "      <td>Wednesday</td>\n",
       "    </tr>\n",
       "  </tbody>\n",
       "</table>\n",
       "</div>"
      ],
      "text/plain": [
       "        BillNo  BillQty           BillParty    BillDate  BillProdNo  \\\n",
       "0  E1617-75852    10.00                 NaN  2019-01-16           2   \n",
       "1  E1617-75852     6.00                 NaN  2019-01-16           1   \n",
       "2  E1617-75853     3.00  HAREKRISHNA BAKERY  2019-01-16           1   \n",
       "3  E1617-75854     0.25                 NaN  2019-01-16           1   \n",
       "4  E1617-75855     3.00                 NaN  2019-01-16           1   \n",
       "\n",
       "  BillProdCode    BillProdName  BillAddTax  BillRate  BillVat  BillAmt  \\\n",
       "0        BAT01          BATAKA           0      14.0      0.0    140.0   \n",
       "1        DUN01          DUNGRI           0      12.0      0.0     72.0   \n",
       "2        RIN07  RINGAN BHARTHA           0      38.0      0.0    114.0   \n",
       "3        GAJ01           GAJAR           0      24.0      0.0      6.0   \n",
       "4        BAN01          BANANA           0       3.4      0.0     10.2   \n",
       "\n",
       "   BillFree BillPartyType ProdCategory  ProdPRate  ProdSRate  month  year  \\\n",
       "0       0.0             R    Vegetable     12.000       18.0      1  2019   \n",
       "1       0.0             R    Vegetable     10.000       16.0      1  2019   \n",
       "2       0.0             R    Vegetable     35.000       52.0      1  2019   \n",
       "3       0.0             R    Vegetable     13.000       24.0      1  2019   \n",
       "4       0.0             R        Fruit     23.334       40.0      1  2019   \n",
       "\n",
       "     weekday  \n",
       "0  Wednesday  \n",
       "1  Wednesday  \n",
       "2  Wednesday  \n",
       "3  Wednesday  \n",
       "4  Wednesday  "
      ]
     },
     "execution_count": 3,
     "metadata": {},
     "output_type": "execute_result"
    }
   ],
   "source": [
    "df.columns\n",
    "df.head()"
   ]
  },
  {
   "cell_type": "markdown",
   "metadata": {},
   "source": [
    "### Handle Missing Values"
   ]
  },
  {
   "cell_type": "code",
   "execution_count": 4,
   "metadata": {},
   "outputs": [
    {
     "data": {
      "text/plain": [
       "BillNo               0\n",
       "BillQty              0\n",
       "BillParty        25735\n",
       "BillDate             0\n",
       "BillProdNo           0\n",
       "BillProdCode         1\n",
       "BillProdName         4\n",
       "BillAddTax           0\n",
       "BillRate             0\n",
       "BillVat              0\n",
       "BillAmt              0\n",
       "BillFree             0\n",
       "BillPartyType        0\n",
       "ProdCategory        34\n",
       "ProdPRate           57\n",
       "ProdSRate           44\n",
       "month                0\n",
       "year                 0\n",
       "weekday              0\n",
       "dtype: int64"
      ]
     },
     "execution_count": 4,
     "metadata": {},
     "output_type": "execute_result"
    }
   ],
   "source": [
    "#Find out total no of null values in each attribute.\n",
    "df.isnull().sum()"
   ]
  },
  {
   "cell_type": "code",
   "execution_count": 9,
   "metadata": {},
   "outputs": [],
   "source": [
    "#remove row based on subset parameter\n",
    "df.dropna(how=\"any\", subset=[\"ProdCategory\", \"ProdPRate\", \"ProdSRate\",\"BillParty\"], inplace=True)"
   ]
  },
  {
   "cell_type": "code",
   "execution_count": 10,
   "metadata": {},
   "outputs": [
    {
     "data": {
      "text/plain": [
       "BillNo           0\n",
       "BillQty          0\n",
       "BillParty        0\n",
       "BillDate         0\n",
       "BillProdNo       0\n",
       "BillProdCode     0\n",
       "BillProdName     0\n",
       "BillAddTax       0\n",
       "BillRate         0\n",
       "BillVat          0\n",
       "BillAmt          0\n",
       "BillFree         0\n",
       "BillPartyType    0\n",
       "ProdCategory     0\n",
       "ProdPRate        0\n",
       "ProdSRate        0\n",
       "month            0\n",
       "year             0\n",
       "weekday          0\n",
       "dtype: int64"
      ]
     },
     "execution_count": 10,
     "metadata": {},
     "output_type": "execute_result"
    }
   ],
   "source": [
    "df.isnull().sum()"
   ]
  },
  {
   "cell_type": "code",
   "execution_count": 12,
   "metadata": {},
   "outputs": [
    {
     "data": {
      "text/plain": [
       "(17070, 19)"
      ]
     },
     "execution_count": 12,
     "metadata": {},
     "output_type": "execute_result"
    }
   ],
   "source": [
    "df.shape"
   ]
  },
  {
   "cell_type": "code",
   "execution_count": 26,
   "metadata": {},
   "outputs": [],
   "source": [
    "# load iris data set \n",
    "value = df[\"BillAmt\"]"
   ]
  },
  {
   "cell_type": "code",
   "execution_count": 16,
   "metadata": {},
   "outputs": [
    {
     "name": "stdout",
     "output_type": "stream",
     "text": [
      "[   0.    0.    0. ... 5750. 8100. 8800.]\n"
     ]
    }
   ],
   "source": [
    "value=np.sort(value)  #sort the array \n",
    "print(value)"
   ]
  },
  {
   "cell_type": "markdown",
   "metadata": {},
   "source": [
    "### Bining "
   ]
  },
  {
   "cell_type": "code",
   "execution_count": 21,
   "metadata": {},
   "outputs": [
    {
     "name": "stdout",
     "output_type": "stream",
     "text": [
      "Bin Mean: \n",
      " [[4.900000e-01 4.900000e-01 4.900000e-01 ... 4.900000e-01 4.900000e-01\n",
      "  4.900000e-01]\n",
      " [1.860000e+00 1.860000e+00 1.860000e+00 ... 1.860000e+00 1.860000e+00\n",
      "  1.860000e+00]\n",
      " [2.457000e+00 2.457000e+00 2.457000e+00 ... 2.457000e+00 2.457000e+00\n",
      "  2.457000e+00]\n",
      " ...\n",
      " [1.803000e+03 1.803000e+03 1.803000e+03 ... 1.803000e+03 1.803000e+03\n",
      "  1.803000e+03]\n",
      " [2.300272e+03 2.300272e+03 2.300272e+03 ... 2.300272e+03 2.300272e+03\n",
      "  2.300272e+03]\n",
      " [5.206820e+03 5.206820e+03 5.206820e+03 ... 5.206820e+03 5.206820e+03\n",
      "  5.206820e+03]]\n"
     ]
    }
   ],
   "source": [
    "# create bins \n",
    "mean_bin=np.zeros((1707,10))  \n",
    "\n",
    "# Bin mean \n",
    "for i in range (0,df.shape[0],10): \n",
    "    k=int(i/10) \n",
    "    mean=(value[i] + value[i+1] + value[i+2] + value[i+3] + value[i+3] + value[i+4] + value[i+5] + value[i+6] + value[i+7] + value[i+8] +value[i+9] )/10\n",
    "    for j in range(10): \n",
    "        mean_bin[k,j]=mean \n",
    "print(\"Bin Mean: \\n\",mean_bin) "
   ]
  },
  {
   "cell_type": "code",
   "execution_count": 25,
   "metadata": {},
   "outputs": [
    {
     "name": "stdout",
     "output_type": "stream",
     "text": [
      "Bin Boundaries: \n",
      " [[0.00000e+00 0.00000e+00 0.00000e+00 ... 1.20000e+00 1.20000e+00\n",
      "  1.20000e+00]\n",
      " [1.28000e+00 1.28000e+00 1.28000e+00 ... 2.04000e+00 2.04000e+00\n",
      "  2.04000e+00]\n",
      " [2.10000e+00 2.10000e+00 2.32000e+00 ... 2.32000e+00 2.32000e+00\n",
      "  2.32000e+00]\n",
      " ...\n",
      " [1.60000e+03 1.60000e+03 1.60000e+03 ... 1.72500e+03 1.72500e+03\n",
      "  1.72500e+03]\n",
      " [1.84072e+03 1.84072e+03 1.84072e+03 ... 2.32000e+03 2.32000e+03\n",
      "  2.32000e+03]\n",
      " [2.34000e+03 2.34000e+03 2.34000e+03 ... 8.80000e+03 8.80000e+03\n",
      "  8.80000e+03]]\n"
     ]
    }
   ],
   "source": [
    "# Bin boundaries \n",
    "\n",
    "bound_bin = np.zeros((1707,10))\n",
    "for i in range (0,df.shape[0],10): \n",
    "    k=int(i/10) \n",
    "    for j in range (10): \n",
    "        if (value[i+j]-value[i]) < (value[i+9]-value[i+j]): #if value closer to lower boundary then replace with it and if closer to higher boundary then replace with it.\n",
    "            bound_bin[k,j]=value[i] \n",
    "        else: \n",
    "            bound_bin[k,j]=value[i+9]        \n",
    "print(\"Bin Boundaries: \\n\",bound_bin) "
   ]
  }
 ],
 "metadata": {
  "kernelspec": {
   "display_name": "Python 3",
   "language": "python",
   "name": "python3"
  },
  "language_info": {
   "codemirror_mode": {
    "name": "ipython",
    "version": 3
   },
   "file_extension": ".py",
   "mimetype": "text/x-python",
   "name": "python",
   "nbconvert_exporter": "python",
   "pygments_lexer": "ipython3",
   "version": "3.7.6"
  }
 },
 "nbformat": 4,
 "nbformat_minor": 4
}
