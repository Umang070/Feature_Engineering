{
 "cells": [
  {
   "cell_type": "markdown",
   "metadata": {},
   "source": [
    "\n",
    "transformation using min-max normalization, z-score normalization and decimal scaling operation."
   ]
  },
  {
   "cell_type": "code",
   "execution_count": 57,
   "metadata": {},
   "outputs": [],
   "source": [
    "import pandas as pd\n",
    "import numpy as np"
   ]
  },
  {
   "cell_type": "code",
   "execution_count": 58,
   "metadata": {},
   "outputs": [
    {
     "data": {
      "text/html": [
       "<div>\n",
       "<style scoped>\n",
       "    .dataframe tbody tr th:only-of-type {\n",
       "        vertical-align: middle;\n",
       "    }\n",
       "\n",
       "    .dataframe tbody tr th {\n",
       "        vertical-align: top;\n",
       "    }\n",
       "\n",
       "    .dataframe thead th {\n",
       "        text-align: right;\n",
       "    }\n",
       "</style>\n",
       "<table border=\"1\" class=\"dataframe\">\n",
       "  <thead>\n",
       "    <tr style=\"text-align: right;\">\n",
       "      <th></th>\n",
       "      <th>id</th>\n",
       "      <th>name</th>\n",
       "      <th>DOB</th>\n",
       "      <th>gender</th>\n",
       "      <th>salary</th>\n",
       "    </tr>\n",
       "  </thead>\n",
       "  <tbody>\n",
       "    <tr>\n",
       "      <th>0</th>\n",
       "      <td>1</td>\n",
       "      <td>Umang</td>\n",
       "      <td>11/22/1999</td>\n",
       "      <td>f</td>\n",
       "      <td>200000</td>\n",
       "    </tr>\n",
       "    <tr>\n",
       "      <th>1</th>\n",
       "      <td>2</td>\n",
       "      <td>Harsh</td>\n",
       "      <td>1/23/1998</td>\n",
       "      <td>f</td>\n",
       "      <td>10000</td>\n",
       "    </tr>\n",
       "    <tr>\n",
       "      <th>2</th>\n",
       "      <td>3</td>\n",
       "      <td>Dhruvil</td>\n",
       "      <td>12/27/1995</td>\n",
       "      <td>m</td>\n",
       "      <td>10000</td>\n",
       "    </tr>\n",
       "    <tr>\n",
       "      <th>3</th>\n",
       "      <td>4</td>\n",
       "      <td>Harshil</td>\n",
       "      <td>2/2/2000</td>\n",
       "      <td>m</td>\n",
       "      <td>25000</td>\n",
       "    </tr>\n",
       "    <tr>\n",
       "      <th>4</th>\n",
       "      <td>5</td>\n",
       "      <td>Sahil</td>\n",
       "      <td>3/15/2001</td>\n",
       "      <td>m</td>\n",
       "      <td>4000</td>\n",
       "    </tr>\n",
       "  </tbody>\n",
       "</table>\n",
       "</div>"
      ],
      "text/plain": [
       "   id     name         DOB gender  salary\n",
       "0   1    Umang  11/22/1999      f  200000\n",
       "1   2    Harsh   1/23/1998      f   10000\n",
       "2   3  Dhruvil  12/27/1995      m   10000\n",
       "3   4  Harshil    2/2/2000      m   25000\n",
       "4   5    Sahil   3/15/2001      m    4000"
      ]
     },
     "execution_count": 58,
     "metadata": {},
     "output_type": "execute_result"
    }
   ],
   "source": [
    "df = pd.read_csv(\"Dataset2.csv\")\n",
    "df.head()"
   ]
  },
  {
   "cell_type": "code",
   "execution_count": 59,
   "metadata": {},
   "outputs": [
    {
     "data": {
      "text/plain": [
       "(100, 5)"
      ]
     },
     "execution_count": 59,
     "metadata": {},
     "output_type": "execute_result"
    }
   ],
   "source": [
    "df.shape"
   ]
  },
  {
   "cell_type": "code",
   "execution_count": 60,
   "metadata": {},
   "outputs": [
    {
     "name": "stdout",
     "output_type": "stream",
     "text": [
      "Max_val 780000 and Min _Value 4000 \n"
     ]
    }
   ],
   "source": [
    "val = df['salary']\n",
    "min_val = min(val)\n",
    "max_val = max(val)\n",
    "new_min = 0\n",
    "new_max = 1\n",
    "print(\"Max_val {} and Min _Value {} \".format(max_val,min_val))"
   ]
  },
  {
   "cell_type": "markdown",
   "metadata": {},
   "source": [
    "### Min-Max Normalization"
   ]
  },
  {
   "cell_type": "code",
   "execution_count": 61,
   "metadata": {},
   "outputs": [],
   "source": [
    "#formula : - new_val = (((val-min_val)/(max_val-min_val))*(new_max-new_min)) + new_min\n",
    "for i in val:\n",
    "    new_val = (((val-min_val)/(max_val-min_val))*(new_max-new_min)) + new_min\n"
   ]
  },
  {
   "cell_type": "code",
   "execution_count": 62,
   "metadata": {},
   "outputs": [],
   "source": [
    "df['min_max_nor_sal'] = new_val"
   ]
  },
  {
   "cell_type": "code",
   "execution_count": 63,
   "metadata": {},
   "outputs": [
    {
     "data": {
      "text/html": [
       "<div>\n",
       "<style scoped>\n",
       "    .dataframe tbody tr th:only-of-type {\n",
       "        vertical-align: middle;\n",
       "    }\n",
       "\n",
       "    .dataframe tbody tr th {\n",
       "        vertical-align: top;\n",
       "    }\n",
       "\n",
       "    .dataframe thead th {\n",
       "        text-align: right;\n",
       "    }\n",
       "</style>\n",
       "<table border=\"1\" class=\"dataframe\">\n",
       "  <thead>\n",
       "    <tr style=\"text-align: right;\">\n",
       "      <th></th>\n",
       "      <th>id</th>\n",
       "      <th>name</th>\n",
       "      <th>DOB</th>\n",
       "      <th>gender</th>\n",
       "      <th>salary</th>\n",
       "      <th>min_max_nor_sal</th>\n",
       "    </tr>\n",
       "  </thead>\n",
       "  <tbody>\n",
       "    <tr>\n",
       "      <th>0</th>\n",
       "      <td>1</td>\n",
       "      <td>Umang</td>\n",
       "      <td>11/22/1999</td>\n",
       "      <td>f</td>\n",
       "      <td>200000</td>\n",
       "      <td>0.252577</td>\n",
       "    </tr>\n",
       "    <tr>\n",
       "      <th>1</th>\n",
       "      <td>2</td>\n",
       "      <td>Harsh</td>\n",
       "      <td>1/23/1998</td>\n",
       "      <td>f</td>\n",
       "      <td>10000</td>\n",
       "      <td>0.007732</td>\n",
       "    </tr>\n",
       "    <tr>\n",
       "      <th>2</th>\n",
       "      <td>3</td>\n",
       "      <td>Dhruvil</td>\n",
       "      <td>12/27/1995</td>\n",
       "      <td>m</td>\n",
       "      <td>10000</td>\n",
       "      <td>0.007732</td>\n",
       "    </tr>\n",
       "    <tr>\n",
       "      <th>3</th>\n",
       "      <td>4</td>\n",
       "      <td>Harshil</td>\n",
       "      <td>2/2/2000</td>\n",
       "      <td>m</td>\n",
       "      <td>25000</td>\n",
       "      <td>0.027062</td>\n",
       "    </tr>\n",
       "    <tr>\n",
       "      <th>4</th>\n",
       "      <td>5</td>\n",
       "      <td>Sahil</td>\n",
       "      <td>3/15/2001</td>\n",
       "      <td>m</td>\n",
       "      <td>4000</td>\n",
       "      <td>0.000000</td>\n",
       "    </tr>\n",
       "  </tbody>\n",
       "</table>\n",
       "</div>"
      ],
      "text/plain": [
       "   id     name         DOB gender  salary  min_max_nor_sal\n",
       "0   1    Umang  11/22/1999      f  200000         0.252577\n",
       "1   2    Harsh   1/23/1998      f   10000         0.007732\n",
       "2   3  Dhruvil  12/27/1995      m   10000         0.007732\n",
       "3   4  Harshil    2/2/2000      m   25000         0.027062\n",
       "4   5    Sahil   3/15/2001      m    4000         0.000000"
      ]
     },
     "execution_count": 63,
     "metadata": {},
     "output_type": "execute_result"
    }
   ],
   "source": [
    "df.head()"
   ]
  },
  {
   "cell_type": "markdown",
   "metadata": {},
   "source": [
    "### Decimal Scaling"
   ]
  },
  {
   "cell_type": "code",
   "execution_count": 64,
   "metadata": {},
   "outputs": [
    {
     "name": "stdout",
     "output_type": "stream",
     "text": [
      "780000\n",
      "6\n"
     ]
    }
   ],
   "source": [
    "print(max_val)\n",
    "length = len(str(max_val))\n",
    "print(length)\n",
    "denominator = pow(10,length)"
   ]
  },
  {
   "cell_type": "code",
   "execution_count": 65,
   "metadata": {},
   "outputs": [],
   "source": [
    "for i in val:\n",
    "    new_decimal_val = (val/denominator)"
   ]
  },
  {
   "cell_type": "code",
   "execution_count": 66,
   "metadata": {},
   "outputs": [],
   "source": [
    "df['decimal_scaling_sal'] = new_decimal_val"
   ]
  },
  {
   "cell_type": "markdown",
   "metadata": {},
   "source": [
    "### Z-score Normalization"
   ]
  },
  {
   "cell_type": "code",
   "execution_count": 67,
   "metadata": {},
   "outputs": [],
   "source": [
    "mean_val = np.mean(val)\n",
    "std_dev = np.std(val)\n",
    "var_val = np.var(val)"
   ]
  },
  {
   "cell_type": "code",
   "execution_count": 68,
   "metadata": {},
   "outputs": [],
   "source": [
    "for i in val:\n",
    "    new_z_score_val = (val-mean_val)/std_dev\n"
   ]
  },
  {
   "cell_type": "code",
   "execution_count": 69,
   "metadata": {},
   "outputs": [],
   "source": [
    "df['z_score_sal'] = new_z_score_val"
   ]
  },
  {
   "cell_type": "code",
   "execution_count": 70,
   "metadata": {},
   "outputs": [
    {
     "data": {
      "text/html": [
       "<div>\n",
       "<style scoped>\n",
       "    .dataframe tbody tr th:only-of-type {\n",
       "        vertical-align: middle;\n",
       "    }\n",
       "\n",
       "    .dataframe tbody tr th {\n",
       "        vertical-align: top;\n",
       "    }\n",
       "\n",
       "    .dataframe thead th {\n",
       "        text-align: right;\n",
       "    }\n",
       "</style>\n",
       "<table border=\"1\" class=\"dataframe\">\n",
       "  <thead>\n",
       "    <tr style=\"text-align: right;\">\n",
       "      <th></th>\n",
       "      <th>id</th>\n",
       "      <th>name</th>\n",
       "      <th>DOB</th>\n",
       "      <th>gender</th>\n",
       "      <th>salary</th>\n",
       "      <th>min_max_nor_sal</th>\n",
       "      <th>decimal_scaling_sal</th>\n",
       "      <th>z_score_sal</th>\n",
       "    </tr>\n",
       "  </thead>\n",
       "  <tbody>\n",
       "    <tr>\n",
       "      <th>0</th>\n",
       "      <td>1</td>\n",
       "      <td>Umang</td>\n",
       "      <td>11/22/1999</td>\n",
       "      <td>f</td>\n",
       "      <td>200000</td>\n",
       "      <td>0.252577</td>\n",
       "      <td>0.200</td>\n",
       "      <td>0.324804</td>\n",
       "    </tr>\n",
       "    <tr>\n",
       "      <th>1</th>\n",
       "      <td>2</td>\n",
       "      <td>Harsh</td>\n",
       "      <td>1/23/1998</td>\n",
       "      <td>f</td>\n",
       "      <td>10000</td>\n",
       "      <td>0.007732</td>\n",
       "      <td>0.010</td>\n",
       "      <td>-0.634840</td>\n",
       "    </tr>\n",
       "    <tr>\n",
       "      <th>2</th>\n",
       "      <td>3</td>\n",
       "      <td>Dhruvil</td>\n",
       "      <td>12/27/1995</td>\n",
       "      <td>m</td>\n",
       "      <td>10000</td>\n",
       "      <td>0.007732</td>\n",
       "      <td>0.010</td>\n",
       "      <td>-0.634840</td>\n",
       "    </tr>\n",
       "    <tr>\n",
       "      <th>3</th>\n",
       "      <td>4</td>\n",
       "      <td>Harshil</td>\n",
       "      <td>2/2/2000</td>\n",
       "      <td>m</td>\n",
       "      <td>25000</td>\n",
       "      <td>0.027062</td>\n",
       "      <td>0.025</td>\n",
       "      <td>-0.559078</td>\n",
       "    </tr>\n",
       "    <tr>\n",
       "      <th>4</th>\n",
       "      <td>5</td>\n",
       "      <td>Sahil</td>\n",
       "      <td>3/15/2001</td>\n",
       "      <td>m</td>\n",
       "      <td>4000</td>\n",
       "      <td>0.000000</td>\n",
       "      <td>0.004</td>\n",
       "      <td>-0.665144</td>\n",
       "    </tr>\n",
       "  </tbody>\n",
       "</table>\n",
       "</div>"
      ],
      "text/plain": [
       "   id     name         DOB gender  salary  min_max_nor_sal  \\\n",
       "0   1    Umang  11/22/1999      f  200000         0.252577   \n",
       "1   2    Harsh   1/23/1998      f   10000         0.007732   \n",
       "2   3  Dhruvil  12/27/1995      m   10000         0.007732   \n",
       "3   4  Harshil    2/2/2000      m   25000         0.027062   \n",
       "4   5    Sahil   3/15/2001      m    4000         0.000000   \n",
       "\n",
       "   decimal_scaling_sal  z_score_sal  \n",
       "0                0.200     0.324804  \n",
       "1                0.010    -0.634840  \n",
       "2                0.010    -0.634840  \n",
       "3                0.025    -0.559078  \n",
       "4                0.004    -0.665144  "
      ]
     },
     "execution_count": 70,
     "metadata": {},
     "output_type": "execute_result"
    }
   ],
   "source": [
    "df.head()"
   ]
  },
  {
   "cell_type": "code",
   "execution_count": null,
   "metadata": {},
   "outputs": [],
   "source": []
  }
 ],
 "metadata": {
  "kernelspec": {
   "display_name": "Python 3",
   "language": "python",
   "name": "python3"
  },
  "language_info": {
   "codemirror_mode": {
    "name": "ipython",
    "version": 3
   },
   "file_extension": ".py",
   "mimetype": "text/x-python",
   "name": "python",
   "nbconvert_exporter": "python",
   "pygments_lexer": "ipython3",
   "version": "3.7.6"
  }
 },
 "nbformat": 4,
 "nbformat_minor": 4
}
